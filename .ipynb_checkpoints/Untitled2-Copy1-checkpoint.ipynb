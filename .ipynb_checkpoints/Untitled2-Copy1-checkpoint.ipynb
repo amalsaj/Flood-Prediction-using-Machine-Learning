{
 "cells": [
  {
   "cell_type": "code",
   "execution_count": 1,
   "id": "0ddef53b",
   "metadata": {},
   "outputs": [],
   "source": [
    "import pandas as pd\n",
    "import numpy as np\n",
    "from sklearn.model_selection import train_test_split\n",
    "from keras.models import Sequential\n",
    "from keras.layers import Dense"
   ]
  },
  {
   "cell_type": "code",
   "execution_count": 2,
   "id": "56fffb05",
   "metadata": {},
   "outputs": [],
   "source": [
    "data = pd.read_csv('rain.csv')"
   ]
  },
  {
   "cell_type": "code",
   "execution_count": 3,
   "id": "3510552d",
   "metadata": {},
   "outputs": [],
   "source": [
    "data['FLOODS'].replace(['YES','NO'],[1,0],inplace=True)"
   ]
  },
  {
   "cell_type": "code",
   "execution_count": 5,
   "id": "8e69a7fb",
   "metadata": {},
   "outputs": [],
   "source": [
    "X = data.drop(['FLOODS'], axis=1).values\n",
    "y = data['FLOODS'].values"
   ]
  },
  {
   "cell_type": "code",
   "execution_count": 6,
   "id": "281695b1",
   "metadata": {},
   "outputs": [],
   "source": [
    "X_train, X_test, y_train, y_test = train_test_split(X, y, test_size=0.2, random_state=42)"
   ]
  },
  {
   "cell_type": "code",
   "execution_count": 7,
   "id": "d1007114",
   "metadata": {},
   "outputs": [],
   "source": [
    "model = Sequential()\n",
    "model.add(Dense(32, activation='relu', input_dim=14))\n",
    "model.add(Dense(16, activation='relu'))\n",
    "model.add(Dense(1, activation='sigmoid'))"
   ]
  },
  {
   "cell_type": "code",
   "execution_count": 8,
   "id": "c0e8a25d",
   "metadata": {},
   "outputs": [],
   "source": [
    "model.compile(loss='binary_crossentropy', optimizer='adam', metrics=['accuracy'])\n"
   ]
  },
  {
   "cell_type": "code",
   "execution_count": 9,
   "id": "5c1c9584",
   "metadata": {},
   "outputs": [
    {
     "name": "stdout",
     "output_type": "stream",
     "text": [
      "Epoch 1/100\n",
      "2/2 [==============================] - 1s 11ms/step - loss: 164.9142 - accuracy: 0.6667\n",
      "Epoch 2/100\n",
      "2/2 [==============================] - 0s 8ms/step - loss: 137.9857 - accuracy: 0.6667\n",
      "Epoch 3/100\n",
      "2/2 [==============================] - 0s 9ms/step - loss: 108.5043 - accuracy: 0.6667\n",
      "Epoch 4/100\n",
      "2/2 [==============================] - 0s 5ms/step - loss: 83.9981 - accuracy: 0.6667\n",
      "Epoch 5/100\n",
      "2/2 [==============================] - 0s 8ms/step - loss: 58.5893 - accuracy: 0.6667\n",
      "Epoch 6/100\n",
      "2/2 [==============================] - 0s 6ms/step - loss: 23.6306 - accuracy: 0.6667\n",
      "Epoch 7/100\n",
      "2/2 [==============================] - 0s 6ms/step - loss: 16.3150 - accuracy: 0.4333\n",
      "Epoch 8/100\n",
      "2/2 [==============================] - 0s 7ms/step - loss: 32.9029 - accuracy: 0.4000\n",
      "Epoch 9/100\n",
      "2/2 [==============================] - 0s 10ms/step - loss: 33.0584 - accuracy: 0.4000\n",
      "Epoch 10/100\n",
      "2/2 [==============================] - 0s 10ms/step - loss: 20.4952 - accuracy: 0.4667\n",
      "Epoch 11/100\n",
      "2/2 [==============================] - 0s 12ms/step - loss: 12.6997 - accuracy: 0.6000\n",
      "Epoch 12/100\n",
      "2/2 [==============================] - 0s 9ms/step - loss: 14.8810 - accuracy: 0.6000\n",
      "Epoch 13/100\n",
      "2/2 [==============================] - 0s 9ms/step - loss: 17.8144 - accuracy: 0.6000\n",
      "Epoch 14/100\n",
      "2/2 [==============================] - 0s 10ms/step - loss: 16.9768 - accuracy: 0.6333\n",
      "Epoch 15/100\n",
      "2/2 [==============================] - 0s 9ms/step - loss: 14.1171 - accuracy: 0.6000\n",
      "Epoch 16/100\n",
      "2/2 [==============================] - 0s 9ms/step - loss: 9.0920 - accuracy: 0.7000\n",
      "Epoch 17/100\n",
      "2/2 [==============================] - 0s 9ms/step - loss: 8.5556 - accuracy: 0.7000\n",
      "Epoch 18/100\n",
      "2/2 [==============================] - 0s 10ms/step - loss: 10.5285 - accuracy: 0.5667\n",
      "Epoch 19/100\n",
      "2/2 [==============================] - 0s 9ms/step - loss: 9.4667 - accuracy: 0.6000\n",
      "Epoch 20/100\n",
      "2/2 [==============================] - 0s 10ms/step - loss: 7.3151 - accuracy: 0.7333\n",
      "Epoch 21/100\n",
      "2/2 [==============================] - 0s 8ms/step - loss: 6.6127 - accuracy: 0.7667\n",
      "Epoch 22/100\n",
      "2/2 [==============================] - 0s 9ms/step - loss: 6.8953 - accuracy: 0.7667\n",
      "Epoch 23/100\n",
      "2/2 [==============================] - 0s 9ms/step - loss: 6.3824 - accuracy: 0.7667\n",
      "Epoch 24/100\n",
      "2/2 [==============================] - 0s 11ms/step - loss: 5.4370 - accuracy: 0.8000\n",
      "Epoch 25/100\n",
      "2/2 [==============================] - 0s 11ms/step - loss: 4.2766 - accuracy: 0.8333\n",
      "Epoch 26/100\n",
      "2/2 [==============================] - 0s 8ms/step - loss: 3.9452 - accuracy: 0.8000\n",
      "Epoch 27/100\n",
      "2/2 [==============================] - 0s 11ms/step - loss: 4.3398 - accuracy: 0.7667\n",
      "Epoch 28/100\n",
      "2/2 [==============================] - 0s 9ms/step - loss: 3.1495 - accuracy: 0.7667\n",
      "Epoch 29/100\n",
      "2/2 [==============================] - 0s 9ms/step - loss: 2.9191 - accuracy: 0.9000\n",
      "Epoch 30/100\n",
      "2/2 [==============================] - 0s 11ms/step - loss: 3.1699 - accuracy: 0.9000\n",
      "Epoch 31/100\n",
      "2/2 [==============================] - 0s 11ms/step - loss: 3.1715 - accuracy: 0.8667\n",
      "Epoch 32/100\n",
      "2/2 [==============================] - 0s 10ms/step - loss: 2.8248 - accuracy: 0.8667\n",
      "Epoch 33/100\n",
      "2/2 [==============================] - 0s 10ms/step - loss: 2.1460 - accuracy: 0.9000\n",
      "Epoch 34/100\n",
      "2/2 [==============================] - 0s 8ms/step - loss: 1.7200 - accuracy: 0.9000\n",
      "Epoch 35/100\n",
      "2/2 [==============================] - 0s 15ms/step - loss: 1.8585 - accuracy: 0.9000\n",
      "Epoch 36/100\n",
      "2/2 [==============================] - 0s 7ms/step - loss: 1.8734 - accuracy: 0.8333\n",
      "Epoch 37/100\n",
      "2/2 [==============================] - 0s 8ms/step - loss: 1.5434 - accuracy: 0.9000\n",
      "Epoch 38/100\n",
      "2/2 [==============================] - 0s 8ms/step - loss: 1.2406 - accuracy: 0.9333\n",
      "Epoch 39/100\n",
      "2/2 [==============================] - 0s 11ms/step - loss: 1.3593 - accuracy: 0.9667\n",
      "Epoch 40/100\n",
      "2/2 [==============================] - 0s 10ms/step - loss: 1.3396 - accuracy: 0.9333\n",
      "Epoch 41/100\n",
      "2/2 [==============================] - 0s 9ms/step - loss: 1.2249 - accuracy: 0.9667\n",
      "Epoch 42/100\n",
      "2/2 [==============================] - 0s 9ms/step - loss: 1.0834 - accuracy: 0.9333\n",
      "Epoch 43/100\n",
      "2/2 [==============================] - 0s 8ms/step - loss: 1.0749 - accuracy: 0.9333\n",
      "Epoch 44/100\n",
      "2/2 [==============================] - 0s 6ms/step - loss: 1.1288 - accuracy: 0.9333\n",
      "Epoch 45/100\n",
      "2/2 [==============================] - 0s 9ms/step - loss: 1.1087 - accuracy: 0.9333\n",
      "Epoch 46/100\n",
      "2/2 [==============================] - 0s 10ms/step - loss: 0.9689 - accuracy: 0.9333\n",
      "Epoch 47/100\n",
      "2/2 [==============================] - 0s 8ms/step - loss: 0.9872 - accuracy: 0.9333\n",
      "Epoch 48/100\n",
      "2/2 [==============================] - 0s 9ms/step - loss: 0.8797 - accuracy: 0.9333\n",
      "Epoch 49/100\n",
      "2/2 [==============================] - 0s 10ms/step - loss: 0.8875 - accuracy: 0.9333\n",
      "Epoch 50/100\n",
      "2/2 [==============================] - 0s 8ms/step - loss: 0.8381 - accuracy: 0.9333\n",
      "Epoch 51/100\n",
      "2/2 [==============================] - 0s 8ms/step - loss: 0.7589 - accuracy: 0.9333\n",
      "Epoch 52/100\n",
      "2/2 [==============================] - 0s 10ms/step - loss: 0.7555 - accuracy: 0.9333\n",
      "Epoch 53/100\n",
      "2/2 [==============================] - 0s 8ms/step - loss: 0.7338 - accuracy: 0.9333\n",
      "Epoch 54/100\n",
      "2/2 [==============================] - 0s 26ms/step - loss: 0.6396 - accuracy: 0.9333\n",
      "Epoch 55/100\n",
      "2/2 [==============================] - 0s 6ms/step - loss: 0.6179 - accuracy: 0.9333\n",
      "Epoch 56/100\n",
      "2/2 [==============================] - 0s 5ms/step - loss: 0.5392 - accuracy: 0.9333\n",
      "Epoch 57/100\n",
      "2/2 [==============================] - 0s 6ms/step - loss: 0.5174 - accuracy: 0.9333\n",
      "Epoch 58/100\n",
      "2/2 [==============================] - 0s 6ms/step - loss: 0.4590 - accuracy: 0.9333\n",
      "Epoch 59/100\n",
      "2/2 [==============================] - 0s 5ms/step - loss: 0.4248 - accuracy: 0.9333\n",
      "Epoch 60/100\n",
      "2/2 [==============================] - 0s 5ms/step - loss: 0.3830 - accuracy: 0.9333\n",
      "Epoch 61/100\n",
      "2/2 [==============================] - 0s 5ms/step - loss: 0.3566 - accuracy: 0.9333\n",
      "Epoch 62/100\n",
      "2/2 [==============================] - 0s 6ms/step - loss: 0.3203 - accuracy: 0.9333\n",
      "Epoch 63/100\n",
      "2/2 [==============================] - 0s 7ms/step - loss: 0.2667 - accuracy: 0.9667\n",
      "Epoch 64/100\n",
      "2/2 [==============================] - 0s 8ms/step - loss: 0.2264 - accuracy: 0.9333\n",
      "Epoch 65/100\n",
      "2/2 [==============================] - 0s 5ms/step - loss: 0.2920 - accuracy: 0.9000\n",
      "Epoch 66/100\n",
      "2/2 [==============================] - 0s 4ms/step - loss: 0.2126 - accuracy: 0.9333\n",
      "Epoch 67/100\n",
      "2/2 [==============================] - 0s 4ms/step - loss: 0.1950 - accuracy: 0.9667\n",
      "Epoch 68/100\n",
      "2/2 [==============================] - 0s 5ms/step - loss: 0.1769 - accuracy: 0.9333\n",
      "Epoch 69/100\n",
      "2/2 [==============================] - 0s 4ms/step - loss: 0.1280 - accuracy: 0.9333\n",
      "Epoch 70/100\n",
      "2/2 [==============================] - 0s 6ms/step - loss: 0.0744 - accuracy: 0.9667\n",
      "Epoch 71/100\n",
      "2/2 [==============================] - 0s 3ms/step - loss: 0.0799 - accuracy: 0.9667\n",
      "Epoch 72/100\n",
      "2/2 [==============================] - 0s 4ms/step - loss: 0.0520 - accuracy: 0.9667\n",
      "Epoch 73/100\n",
      "2/2 [==============================] - 0s 4ms/step - loss: 0.0780 - accuracy: 0.9667\n",
      "Epoch 74/100\n",
      "2/2 [==============================] - 0s 6ms/step - loss: 0.0401 - accuracy: 0.9667\n",
      "Epoch 75/100\n",
      "2/2 [==============================] - 0s 3ms/step - loss: 0.0326 - accuracy: 0.9667\n",
      "Epoch 76/100\n",
      "2/2 [==============================] - 0s 5ms/step - loss: 0.0462 - accuracy: 0.9667\n",
      "Epoch 77/100\n",
      "2/2 [==============================] - 0s 3ms/step - loss: 0.0207 - accuracy: 1.0000\n",
      "Epoch 78/100\n",
      "2/2 [==============================] - 0s 3ms/step - loss: 0.0153 - accuracy: 1.0000\n",
      "Epoch 79/100\n",
      "2/2 [==============================] - 0s 4ms/step - loss: 0.0151 - accuracy: 1.0000\n",
      "Epoch 80/100\n",
      "2/2 [==============================] - 0s 3ms/step - loss: 0.0071 - accuracy: 1.0000\n",
      "Epoch 81/100\n",
      "2/2 [==============================] - 0s 4ms/step - loss: 0.0080 - accuracy: 1.0000\n",
      "Epoch 82/100\n",
      "2/2 [==============================] - 0s 3ms/step - loss: 0.0070 - accuracy: 1.0000\n",
      "Epoch 83/100\n",
      "2/2 [==============================] - 0s 4ms/step - loss: 0.0055 - accuracy: 1.0000\n",
      "Epoch 84/100\n"
     ]
    },
    {
     "name": "stdout",
     "output_type": "stream",
     "text": [
      "2/2 [==============================] - 0s 4ms/step - loss: 0.0049 - accuracy: 1.0000\n",
      "Epoch 85/100\n",
      "2/2 [==============================] - 0s 4ms/step - loss: 0.0050 - accuracy: 1.0000\n",
      "Epoch 86/100\n",
      "2/2 [==============================] - 0s 4ms/step - loss: 0.0046 - accuracy: 1.0000\n",
      "Epoch 87/100\n",
      "2/2 [==============================] - 0s 4ms/step - loss: 0.0044 - accuracy: 1.0000\n",
      "Epoch 88/100\n",
      "2/2 [==============================] - 0s 3ms/step - loss: 0.0035 - accuracy: 1.0000\n",
      "Epoch 89/100\n",
      "2/2 [==============================] - 0s 5ms/step - loss: 0.0037 - accuracy: 1.0000\n",
      "Epoch 90/100\n",
      "2/2 [==============================] - 0s 3ms/step - loss: 0.0033 - accuracy: 1.0000\n",
      "Epoch 91/100\n",
      "2/2 [==============================] - 0s 5ms/step - loss: 0.0033 - accuracy: 1.0000\n",
      "Epoch 92/100\n",
      "2/2 [==============================] - 0s 3ms/step - loss: 0.0031 - accuracy: 1.0000\n",
      "Epoch 93/100\n",
      "2/2 [==============================] - 0s 3ms/step - loss: 0.0029 - accuracy: 1.0000\n",
      "Epoch 94/100\n",
      "2/2 [==============================] - 0s 4ms/step - loss: 0.0029 - accuracy: 1.0000\n",
      "Epoch 95/100\n",
      "2/2 [==============================] - 0s 3ms/step - loss: 0.0027 - accuracy: 1.0000\n",
      "Epoch 96/100\n",
      "2/2 [==============================] - 0s 3ms/step - loss: 0.0027 - accuracy: 1.0000\n",
      "Epoch 97/100\n",
      "2/2 [==============================] - 0s 4ms/step - loss: 0.0025 - accuracy: 1.0000\n",
      "Epoch 98/100\n",
      "2/2 [==============================] - 0s 4ms/step - loss: 0.0024 - accuracy: 1.0000\n",
      "Epoch 99/100\n",
      "2/2 [==============================] - 0s 5ms/step - loss: 0.0025 - accuracy: 1.0000\n",
      "Epoch 100/100\n",
      "2/2 [==============================] - 0s 4ms/step - loss: 0.0023 - accuracy: 1.0000\n"
     ]
    },
    {
     "data": {
      "text/plain": [
       "<keras.callbacks.History at 0x159f021cfd0>"
      ]
     },
     "execution_count": 9,
     "metadata": {},
     "output_type": "execute_result"
    }
   ],
   "source": [
    "model.fit(X_train, y_train, epochs=100, batch_size=16, verbose=1)"
   ]
  },
  {
   "cell_type": "code",
   "execution_count": 10,
   "id": "b83b4794",
   "metadata": {},
   "outputs": [
    {
     "name": "stdout",
     "output_type": "stream",
     "text": [
      "Test loss: 3.2139015197753906\n",
      "Test accuracy: 0.875\n"
     ]
    }
   ],
   "source": [
    "score = model.evaluate(X_test, y_test, verbose=0)\n",
    "print('Test loss:', score[0])\n",
    "print('Test accuracy:', score[1])"
   ]
  },
  {
   "cell_type": "code",
   "execution_count": 11,
   "id": "4446ef18",
   "metadata": {},
   "outputs": [],
   "source": [
    "import pandas as pd\n",
    "import numpy as np"
   ]
  },
  {
   "cell_type": "code",
   "execution_count": 13,
   "id": "6ea3049a",
   "metadata": {},
   "outputs": [],
   "source": [
    "new_data = pd.read_csv('rainnew.csv')"
   ]
  },
  {
   "cell_type": "code",
   "execution_count": 14,
   "id": "60a8ab5b",
   "metadata": {},
   "outputs": [
    {
     "data": {
      "text/html": [
       "<div>\n",
       "<style scoped>\n",
       "    .dataframe tbody tr th:only-of-type {\n",
       "        vertical-align: middle;\n",
       "    }\n",
       "\n",
       "    .dataframe tbody tr th {\n",
       "        vertical-align: top;\n",
       "    }\n",
       "\n",
       "    .dataframe thead th {\n",
       "        text-align: right;\n",
       "    }\n",
       "</style>\n",
       "<table border=\"1\" class=\"dataframe\">\n",
       "  <thead>\n",
       "    <tr style=\"text-align: right;\">\n",
       "      <th></th>\n",
       "      <th>YEAR</th>\n",
       "      <th>JAN</th>\n",
       "      <th>FEB</th>\n",
       "      <th>MAR</th>\n",
       "      <th>APR</th>\n",
       "      <th>MAY</th>\n",
       "      <th>JUN</th>\n",
       "      <th>JUL</th>\n",
       "      <th>AUG</th>\n",
       "      <th>SEP</th>\n",
       "      <th>OCT</th>\n",
       "      <th>NOV</th>\n",
       "      <th>DEC</th>\n",
       "      <th>ANNUAL</th>\n",
       "    </tr>\n",
       "  </thead>\n",
       "  <tbody>\n",
       "    <tr>\n",
       "      <th>0</th>\n",
       "      <td>2018</td>\n",
       "      <td>29.1</td>\n",
       "      <td>52.1</td>\n",
       "      <td>48.6</td>\n",
       "      <td>116.4</td>\n",
       "      <td>183.8</td>\n",
       "      <td>625.4</td>\n",
       "      <td>1048.5</td>\n",
       "      <td>1398.9</td>\n",
       "      <td>423.6</td>\n",
       "      <td>356.1</td>\n",
       "      <td>125.4</td>\n",
       "      <td>65.1</td>\n",
       "      <td>4473</td>\n",
       "    </tr>\n",
       "  </tbody>\n",
       "</table>\n",
       "</div>"
      ],
      "text/plain": [
       "   YEAR   JAN   FEB   MAR    APR    MAY    JUN     JUL     AUG    SEP    OCT  \\\n",
       "0  2018  29.1  52.1  48.6  116.4  183.8  625.4  1048.5  1398.9  423.6  356.1   \n",
       "\n",
       "     NOV   DEC   ANNUAL  \n",
       "0  125.4  65.1     4473  "
      ]
     },
     "execution_count": 14,
     "metadata": {},
     "output_type": "execute_result"
    }
   ],
   "source": [
    "new_data"
   ]
  },
  {
   "cell_type": "code",
   "execution_count": 15,
   "id": "c7efb06c",
   "metadata": {},
   "outputs": [],
   "source": [
    "new_data = new_data.dropna()"
   ]
  },
  {
   "cell_type": "code",
   "execution_count": 17,
   "id": "9407deda",
   "metadata": {},
   "outputs": [],
   "source": [
    "numerical_cols = ['YEAR','JAN','FEB','MAR','APR','MAY','JUN','JUL','AUG','SEP','OCT','NOV','DEC','ANNUAL']"
   ]
  },
  {
   "cell_type": "code",
   "execution_count": 21,
   "id": "22dd1089",
   "metadata": {},
   "outputs": [],
   "source": [
    "X_new = np.array(new_data)"
   ]
  },
  {
   "cell_type": "code",
   "execution_count": 22,
   "id": "56407a85",
   "metadata": {},
   "outputs": [
    {
     "data": {
      "text/plain": [
       "array([[2018. ,   29.1,   52.1,   48.6,  116.4,  183.8,  625.4, 1048.5,\n",
       "        1398.9,  423.6,  356.1,  125.4,   65.1, 4473. ]])"
      ]
     },
     "execution_count": 22,
     "metadata": {},
     "output_type": "execute_result"
    }
   ],
   "source": [
    "X_new"
   ]
  },
  {
   "cell_type": "code",
   "execution_count": 23,
   "id": "3d86f4ef",
   "metadata": {},
   "outputs": [
    {
     "name": "stdout",
     "output_type": "stream",
     "text": [
      "1/1 [==============================] - 0s 484ms/step\n"
     ]
    }
   ],
   "source": [
    "predictions = model.predict(X_new)"
   ]
  },
  {
   "cell_type": "code",
   "execution_count": 24,
   "id": "a97bfe76",
   "metadata": {},
   "outputs": [],
   "source": [
    "predicted_labels = np.argmax(predictions, axis=1)"
   ]
  },
  {
   "cell_type": "code",
   "execution_count": 25,
   "id": "af556329",
   "metadata": {},
   "outputs": [
    {
     "name": "stdout",
     "output_type": "stream",
     "text": [
      "[0]\n"
     ]
    }
   ],
   "source": [
    "print(predicted_labels)"
   ]
  },
  {
   "cell_type": "code",
   "execution_count": 28,
   "id": "686980d5",
   "metadata": {},
   "outputs": [
    {
     "name": "stdout",
     "output_type": "stream",
     "text": [
      "Prediction: Flooding will not occur\n"
     ]
    }
   ],
   "source": [
    "out = predicted_labels[0]\n",
    "if out >= 0.5:\n",
    "    show = 'Flooding will occur'\n",
    "else:\n",
    "    show = 'Flooding will not occur'\n",
    "\n",
    "print('Prediction:', show)"
   ]
  },
  {
   "cell_type": "code",
   "execution_count": 44,
   "id": "e73e63e8",
   "metadata": {},
   "outputs": [],
   "source": [
    "model.save('rainonly.h5')"
   ]
  },
  {
   "cell_type": "code",
   "execution_count": null,
   "id": "ab763cc2",
   "metadata": {},
   "outputs": [],
   "source": []
  }
 ],
 "metadata": {
  "kernelspec": {
   "display_name": "Python 3 (ipykernel)",
   "language": "python",
   "name": "python3"
  },
  "language_info": {
   "codemirror_mode": {
    "name": "ipython",
    "version": 3
   },
   "file_extension": ".py",
   "mimetype": "text/x-python",
   "name": "python",
   "nbconvert_exporter": "python",
   "pygments_lexer": "ipython3",
   "version": "3.10.9"
  }
 },
 "nbformat": 4,
 "nbformat_minor": 5
}
