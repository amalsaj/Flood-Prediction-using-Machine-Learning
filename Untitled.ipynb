{
 "cells": [
  {
   "cell_type": "code",
   "execution_count": 2,
   "id": "dda221dd",
   "metadata": {
    "scrolled": true
   },
   "outputs": [],
   "source": [
    "import numpy as np\n",
    "import pandas as pd\n",
    "import keras\n",
    "from keras.models import Sequential\n",
    "from keras.layers import Dense, Dropout"
   ]
  },
  {
   "cell_type": "code",
   "execution_count": 3,
   "id": "0076a5a9",
   "metadata": {},
   "outputs": [],
   "source": [
    "data = pd.read_csv('dataset.csv')"
   ]
  },
  {
   "cell_type": "code",
   "execution_count": 4,
   "id": "738304bd",
   "metadata": {},
   "outputs": [
    {
     "name": "stdout",
     "output_type": "stream",
     "text": [
      "     Year  Month    Rain  Humidity  Temperature  Pressure  Flood\n",
      "0    1981      1     7.0     14.71        27.72    100.68      1\n",
      "1    1981      2     6.8     14.28        30.08    100.57      1\n",
      "2    1981      3    28.5     16.36        31.55    100.47      1\n",
      "3    1981      4    75.9     18.55        30.81    100.35      1\n",
      "4    1981      5   166.3     18.86        28.93    100.26      1\n",
      "..    ...    ...     ...       ...          ...       ...    ...\n",
      "451  2018      8  1398.9     18.74        25.72    100.42      1\n",
      "452  2018      9   423.6     18.19        26.87    100.42      1\n",
      "453  2018     10   356.1     18.37        27.52    100.47      1\n",
      "454  2018     11   125.4     17.82        27.79    100.53      1\n",
      "455  2018     12    65.1     16.78        27.85    100.58      1\n",
      "\n",
      "[456 rows x 7 columns]\n"
     ]
    }
   ],
   "source": [
    "print(data)"
   ]
  },
  {
   "cell_type": "code",
   "execution_count": 4,
   "id": "590e3fbd",
   "metadata": {},
   "outputs": [],
   "source": [
    "X = data[['Rain', 'Humidity', 'Temperature', 'Pressure']].values"
   ]
  },
  {
   "cell_type": "code",
   "execution_count": 5,
   "id": "d3b96d11",
   "metadata": {},
   "outputs": [
    {
     "name": "stdout",
     "output_type": "stream",
     "text": [
      "[[  7.    14.71  27.72 100.68]\n",
      " [  6.8   14.28  30.08 100.57]\n",
      " [ 28.5   16.36  31.55 100.47]\n",
      " ...\n",
      " [356.1   18.37  27.52 100.47]\n",
      " [125.4   17.82  27.79 100.53]\n",
      " [ 65.1   16.78  27.85 100.58]]\n"
     ]
    }
   ],
   "source": [
    "print(X)"
   ]
  },
  {
   "cell_type": "code",
   "execution_count": 10,
   "id": "06b39510",
   "metadata": {},
   "outputs": [],
   "source": [
    "Y = data['Flood'].values"
   ]
  },
  {
   "cell_type": "code",
   "execution_count": 12,
   "id": "c4ec7f01",
   "metadata": {},
   "outputs": [
    {
     "name": "stdout",
     "output_type": "stream",
     "text": [
      "[1 1 1 1 1 1 1 1 1 1 1 1 0 0 0 0 0 0 0 0 0 0 0 0 0 0 0 0 0 0 0 0 0 0 0 0 0\n",
      " 0 0 0 0 0 0 0 0 0 0 0 0 0 0 0 0 0 0 0 0 0 0 0 0 0 0 0 0 0 0 0 0 0 0 0 0 0\n",
      " 0 0 0 0 0 0 0 0 0 0 0 0 0 0 0 0 0 0 0 0 0 0 0 0 0 0 0 0 0 0 0 0 0 0 0 0 0\n",
      " 0 0 0 0 0 0 0 0 0 1 1 1 1 1 1 1 1 1 1 1 1 1 1 1 1 1 1 1 1 1 1 1 1 0 0 0 0\n",
      " 0 0 0 0 0 0 0 0 1 1 1 1 1 1 1 1 1 1 1 1 0 0 0 0 0 0 0 0 0 0 0 0 0 0 0 0 0\n",
      " 0 0 0 0 0 0 0 1 1 1 1 1 1 1 1 1 1 1 1 1 1 1 1 1 1 1 1 1 1 1 0 0 0 0 0 0 0\n",
      " 0 0 0 0 0 0 0 0 0 0 0 0 0 0 0 0 0 0 0 0 0 0 0 0 0 0 0 0 0 0 0 0 0 0 0 0 0\n",
      " 0 0 0 0 0 0 0 0 0 0 0 0 0 0 0 0 0 0 0 0 0 0 0 0 0 0 0 0 0 1 1 1 1 1 1 1 1\n",
      " 1 1 1 1 1 1 1 1 1 1 1 1 1 1 1 1 1 1 1 1 1 1 1 1 1 1 1 1 0 0 0 0 0 0 0 0 0\n",
      " 0 0 0 0 0 0 0 0 0 0 0 0 0 0 0 0 1 1 1 1 1 1 1 1 1 1 1 1 1 1 1 1 1 1 1 1 1\n",
      " 1 1 0 0 0 0 0 0 0 0 0 0 0 0 1 1 1 1 1 1 1 1 1 1 1 1 1 1 1 1 1 1 1 1 1 1 1\n",
      " 1 0 0 0 0 0 0 0 0 0 0 0 0 0 0 0 0 0 0 0 0 0 0 0 0 0 0 0 0 0 0 0 0 0 0 0 0\n",
      " 1 1 1 1 1 1 1 1 1 1 1 1]\n"
     ]
    }
   ],
   "source": [
    "print(Y)"
   ]
  },
  {
   "cell_type": "code",
   "execution_count": 7,
   "id": "e8e19ac4",
   "metadata": {},
   "outputs": [],
   "source": [
    "model = Sequential()\n",
    "model.add(Dense(64, input_dim=4, activation='relu'))\n",
    "model.add(Dropout(0.5))\n",
    "model.add(Dense(32, activation='relu'))\n",
    "model.add(Dropout(0.5))\n",
    "model.add(Dense(1, activation='sigmoid'))"
   ]
  },
  {
   "cell_type": "code",
   "execution_count": 14,
   "id": "66e21af1",
   "metadata": {},
   "outputs": [
    {
     "name": "stdout",
     "output_type": "stream",
     "text": [
      "<keras.engine.sequential.Sequential object at 0x000002CC30BC0D30>\n"
     ]
    }
   ],
   "source": [
    "print(model)"
   ]
  },
  {
   "cell_type": "code",
   "execution_count": 8,
   "id": "68986393",
   "metadata": {},
   "outputs": [],
   "source": [
    "model.compile(loss='binary_crossentropy', optimizer='adam', metrics=['accuracy'])"
   ]
  },
  {
   "cell_type": "code",
   "execution_count": 11,
   "id": "37d022b6",
   "metadata": {},
   "outputs": [
    {
     "name": "stdout",
     "output_type": "stream",
     "text": [
      "Epoch 1/50\n",
      "12/12 [==============================] - 1s 25ms/step - loss: 20.4721 - accuracy: 0.4973 - val_loss: 3.2017 - val_accuracy: 0.5870\n",
      "Epoch 2/50\n",
      "12/12 [==============================] - 0s 5ms/step - loss: 19.3129 - accuracy: 0.5714 - val_loss: 2.3195 - val_accuracy: 0.5870\n",
      "Epoch 3/50\n",
      "12/12 [==============================] - 0s 5ms/step - loss: 15.1861 - accuracy: 0.5632 - val_loss: 1.9540 - val_accuracy: 0.5870\n",
      "Epoch 4/50\n",
      "12/12 [==============================] - 0s 5ms/step - loss: 10.6311 - accuracy: 0.5797 - val_loss: 2.1625 - val_accuracy: 0.5652\n",
      "Epoch 5/50\n",
      "12/12 [==============================] - 0s 5ms/step - loss: 10.7728 - accuracy: 0.5440 - val_loss: 2.6778 - val_accuracy: 0.5217\n",
      "Epoch 6/50\n",
      "12/12 [==============================] - 0s 5ms/step - loss: 8.7779 - accuracy: 0.5412 - val_loss: 2.5851 - val_accuracy: 0.5217\n",
      "Epoch 7/50\n",
      "12/12 [==============================] - 0s 6ms/step - loss: 7.5455 - accuracy: 0.5495 - val_loss: 1.5125 - val_accuracy: 0.5326\n",
      "Epoch 8/50\n",
      "12/12 [==============================] - 0s 6ms/step - loss: 8.9840 - accuracy: 0.5467 - val_loss: 1.1713 - val_accuracy: 0.5543\n",
      "Epoch 9/50\n",
      "12/12 [==============================] - 0s 6ms/step - loss: 7.5438 - accuracy: 0.5604 - val_loss: 1.0292 - val_accuracy: 0.6087\n",
      "Epoch 10/50\n",
      "12/12 [==============================] - 0s 6ms/step - loss: 6.3616 - accuracy: 0.5687 - val_loss: 0.8699 - val_accuracy: 0.5761\n",
      "Epoch 11/50\n",
      "12/12 [==============================] - 0s 6ms/step - loss: 6.3283 - accuracy: 0.5632 - val_loss: 0.8172 - val_accuracy: 0.5870\n",
      "Epoch 12/50\n",
      "12/12 [==============================] - 0s 5ms/step - loss: 5.3639 - accuracy: 0.5604 - val_loss: 0.7511 - val_accuracy: 0.5870\n",
      "Epoch 13/50\n",
      "12/12 [==============================] - 0s 5ms/step - loss: 4.5637 - accuracy: 0.5989 - val_loss: 0.6771 - val_accuracy: 0.5761\n",
      "Epoch 14/50\n",
      "12/12 [==============================] - 0s 5ms/step - loss: 3.9760 - accuracy: 0.6071 - val_loss: 0.6514 - val_accuracy: 0.6087\n",
      "Epoch 15/50\n",
      "12/12 [==============================] - 0s 5ms/step - loss: 3.5607 - accuracy: 0.5440 - val_loss: 0.6380 - val_accuracy: 0.5761\n",
      "Epoch 16/50\n",
      "12/12 [==============================] - 0s 6ms/step - loss: 3.3580 - accuracy: 0.5632 - val_loss: 0.6480 - val_accuracy: 0.6196\n",
      "Epoch 17/50\n",
      "12/12 [==============================] - 0s 8ms/step - loss: 3.7042 - accuracy: 0.5330 - val_loss: 0.6768 - val_accuracy: 0.5543\n",
      "Epoch 18/50\n",
      "12/12 [==============================] - 0s 5ms/step - loss: 3.3693 - accuracy: 0.5495 - val_loss: 0.6858 - val_accuracy: 0.5217\n",
      "Epoch 19/50\n",
      "12/12 [==============================] - 0s 5ms/step - loss: 2.6115 - accuracy: 0.5824 - val_loss: 0.6854 - val_accuracy: 0.5109\n",
      "Epoch 20/50\n",
      "12/12 [==============================] - 0s 5ms/step - loss: 2.3314 - accuracy: 0.5907 - val_loss: 0.6967 - val_accuracy: 0.4891\n",
      "Epoch 21/50\n",
      "12/12 [==============================] - 0s 4ms/step - loss: 2.8037 - accuracy: 0.5357 - val_loss: 0.6999 - val_accuracy: 0.5000\n",
      "Epoch 22/50\n",
      "12/12 [==============================] - 0s 5ms/step - loss: 1.9419 - accuracy: 0.5604 - val_loss: 0.6981 - val_accuracy: 0.4783\n",
      "Epoch 23/50\n",
      "12/12 [==============================] - 0s 5ms/step - loss: 2.0557 - accuracy: 0.5385 - val_loss: 0.6944 - val_accuracy: 0.4891\n",
      "Epoch 24/50\n",
      "12/12 [==============================] - 0s 5ms/step - loss: 2.0274 - accuracy: 0.5989 - val_loss: 0.6930 - val_accuracy: 0.5109\n",
      "Epoch 25/50\n",
      "12/12 [==============================] - 0s 5ms/step - loss: 1.7854 - accuracy: 0.5852 - val_loss: 0.6925 - val_accuracy: 0.5435\n",
      "Epoch 26/50\n",
      "12/12 [==============================] - 0s 6ms/step - loss: 1.7069 - accuracy: 0.6016 - val_loss: 0.6922 - val_accuracy: 0.5217\n",
      "Epoch 27/50\n",
      "12/12 [==============================] - 0s 5ms/step - loss: 1.2462 - accuracy: 0.6374 - val_loss: 0.6922 - val_accuracy: 0.5217\n",
      "Epoch 28/50\n",
      "12/12 [==============================] - 0s 5ms/step - loss: 1.5358 - accuracy: 0.5907 - val_loss: 0.6922 - val_accuracy: 0.5217\n",
      "Epoch 29/50\n",
      "12/12 [==============================] - 0s 4ms/step - loss: 1.5162 - accuracy: 0.5742 - val_loss: 0.6922 - val_accuracy: 0.5217\n",
      "Epoch 30/50\n",
      "12/12 [==============================] - 0s 5ms/step - loss: 1.3700 - accuracy: 0.6071 - val_loss: 0.6922 - val_accuracy: 0.5217\n",
      "Epoch 31/50\n",
      "12/12 [==============================] - 0s 4ms/step - loss: 1.2555 - accuracy: 0.6538 - val_loss: 0.6922 - val_accuracy: 0.5217\n",
      "Epoch 32/50\n",
      "12/12 [==============================] - 0s 5ms/step - loss: 1.2523 - accuracy: 0.5852 - val_loss: 0.6922 - val_accuracy: 0.5217\n",
      "Epoch 33/50\n",
      "12/12 [==============================] - 0s 5ms/step - loss: 1.1443 - accuracy: 0.6264 - val_loss: 0.6922 - val_accuracy: 0.5217\n",
      "Epoch 34/50\n",
      "12/12 [==============================] - 0s 5ms/step - loss: 0.9643 - accuracy: 0.6099 - val_loss: 0.6922 - val_accuracy: 0.5217\n",
      "Epoch 35/50\n",
      "12/12 [==============================] - 0s 5ms/step - loss: 0.9481 - accuracy: 0.6511 - val_loss: 0.6922 - val_accuracy: 0.5217\n",
      "Epoch 36/50\n",
      "12/12 [==============================] - 0s 5ms/step - loss: 1.0168 - accuracy: 0.5989 - val_loss: 0.6923 - val_accuracy: 0.5217\n",
      "Epoch 37/50\n",
      "12/12 [==============================] - 0s 5ms/step - loss: 0.9289 - accuracy: 0.6099 - val_loss: 0.6923 - val_accuracy: 0.5217\n",
      "Epoch 38/50\n",
      "12/12 [==============================] - 0s 5ms/step - loss: 1.2170 - accuracy: 0.6264 - val_loss: 0.6924 - val_accuracy: 0.5217\n",
      "Epoch 39/50\n",
      "12/12 [==============================] - 0s 7ms/step - loss: 0.9135 - accuracy: 0.6319 - val_loss: 0.6924 - val_accuracy: 0.5217\n",
      "Epoch 40/50\n",
      "12/12 [==============================] - 0s 5ms/step - loss: 1.0038 - accuracy: 0.6126 - val_loss: 0.6924 - val_accuracy: 0.5217\n",
      "Epoch 41/50\n",
      "12/12 [==============================] - 0s 5ms/step - loss: 0.8989 - accuracy: 0.6154 - val_loss: 0.6925 - val_accuracy: 0.5217\n",
      "Epoch 42/50\n",
      "12/12 [==============================] - 0s 5ms/step - loss: 0.8971 - accuracy: 0.6181 - val_loss: 0.6924 - val_accuracy: 0.5217\n",
      "Epoch 43/50\n",
      "12/12 [==============================] - 0s 5ms/step - loss: 0.9716 - accuracy: 0.5824 - val_loss: 0.6924 - val_accuracy: 0.5217\n",
      "Epoch 44/50\n",
      "12/12 [==============================] - 0s 5ms/step - loss: 0.8506 - accuracy: 0.6511 - val_loss: 0.6927 - val_accuracy: 0.5217\n",
      "Epoch 45/50\n",
      "12/12 [==============================] - 0s 5ms/step - loss: 0.8306 - accuracy: 0.6291 - val_loss: 0.6928 - val_accuracy: 0.5217\n",
      "Epoch 46/50\n",
      "12/12 [==============================] - 0s 5ms/step - loss: 0.7880 - accuracy: 0.6374 - val_loss: 0.6928 - val_accuracy: 0.5217\n",
      "Epoch 47/50\n",
      "12/12 [==============================] - 0s 5ms/step - loss: 0.8161 - accuracy: 0.6126 - val_loss: 0.6929 - val_accuracy: 0.5217\n",
      "Epoch 48/50\n",
      "12/12 [==============================] - 0s 5ms/step - loss: 0.8180 - accuracy: 0.6154 - val_loss: 0.6931 - val_accuracy: 0.5217\n",
      "Epoch 49/50\n",
      "12/12 [==============================] - 0s 5ms/step - loss: 0.8047 - accuracy: 0.6346 - val_loss: 0.6934 - val_accuracy: 0.5217\n",
      "Epoch 50/50\n",
      "12/12 [==============================] - 0s 5ms/step - loss: 0.8205 - accuracy: 0.6319 - val_loss: 0.6936 - val_accuracy: 0.5217\n"
     ]
    },
    {
     "data": {
      "text/plain": [
       "<keras.callbacks.History at 0x1f8889959f0>"
      ]
     },
     "execution_count": 11,
     "metadata": {},
     "output_type": "execute_result"
    }
   ],
   "source": [
    "model.fit(X, Y, epochs=50, batch_size=32, validation_split=0.2)"
   ]
  },
  {
   "cell_type": "code",
   "execution_count": 12,
   "id": "d878838a",
   "metadata": {},
   "outputs": [
    {
     "name": "stdout",
     "output_type": "stream",
     "text": [
      "15/15 [==============================] - 0s 1ms/step - loss: 0.6704 - accuracy: 0.6360\n",
      "Accuracy: 63.60\n"
     ]
    }
   ],
   "source": [
    "loss, accuracy = model.evaluate(X, Y)\n",
    "print('Accuracy: %.2f' % (accuracy*100))"
   ]
  },
  {
   "cell_type": "code",
   "execution_count": 18,
   "id": "670e56b7",
   "metadata": {},
   "outputs": [
    {
     "ename": "SyntaxError",
     "evalue": "(unicode error) 'unicodeescape' codec can't decode bytes in position 2-3: truncated \\UXXXXXXXX escape (3537645847.py, line 2)",
     "output_type": "error",
     "traceback": [
      "\u001b[1;36m  Cell \u001b[1;32mIn[18], line 2\u001b[1;36m\u001b[0m\n\u001b[1;33m    model.save('C:\\Users\\AMAL\\Downloads\\flood\\model1.h5')\u001b[0m\n\u001b[1;37m                                                        ^\u001b[0m\n\u001b[1;31mSyntaxError\u001b[0m\u001b[1;31m:\u001b[0m (unicode error) 'unicodeescape' codec can't decode bytes in position 2-3: truncated \\UXXXXXXXX escape\n"
     ]
    }
   ],
   "source": [
    "# Save the model to a file\n",
    "model.save('C:\\Users\\AMAL\\Downloads\\flood\\model1.h5')\n"
   ]
  },
  {
   "cell_type": "code",
   "execution_count": 14,
   "id": "a9e95d12",
   "metadata": {},
   "outputs": [],
   "source": [
    "model.save('model.h5')\n"
   ]
  },
  {
   "cell_type": "code",
   "execution_count": 20,
   "id": "76ebadeb",
   "metadata": {},
   "outputs": [],
   "source": [
    "import pandas as pd\n",
    "\n",
    "# Load the new data from a CSV file\n",
    "new_data = pd.read_csv('newdata1.csv')\n",
    "\n",
    "# Extract the input features into a separate DataFrame or NumPy array\n",
    "X1 = new_data[['Rain', 'Humidity', 'Temperature', 'Pressure']].values\n"
   ]
  },
  {
   "cell_type": "code",
   "execution_count": 21,
   "id": "6f5e5ae5",
   "metadata": {},
   "outputs": [
    {
     "name": "stdout",
     "output_type": "stream",
     "text": [
      "[[  7.4   14.47  28.   100.55]\n",
      " [ 11.    13.98  29.95 100.4 ]\n",
      " [ 21.    16.78  31.12 100.44]\n",
      " [171.1   18.92  29.52 100.33]\n",
      " [ 95.3   19.53  27.9  100.3 ]\n",
      " [430.3   18.92  26.89 100.33]\n",
      " [362.6   19.1   26.41 100.25]\n",
      " [501.6   18.43  26.29 100.4 ]\n",
      " [241.1   18.55  26.75 100.45]\n",
      " [187.5   18.37  27.59 100.41]\n",
      " [112.9   17.03  27.3  100.45]\n",
      " [  9.4   15.87  28.28 100.41]]\n"
     ]
    }
   ],
   "source": [
    "print(X1)"
   ]
  },
  {
   "cell_type": "code",
   "execution_count": 23,
   "id": "b70db324",
   "metadata": {},
   "outputs": [
    {
     "name": "stdout",
     "output_type": "stream",
     "text": [
      "1/1 [==============================] - 0s 150ms/step\n"
     ]
    }
   ],
   "source": [
    "y1 = model.predict(X1)"
   ]
  },
  {
   "cell_type": "code",
   "execution_count": 24,
   "id": "9f744640",
   "metadata": {},
   "outputs": [
    {
     "name": "stdout",
     "output_type": "stream",
     "text": [
      "[[0.442963  ]\n",
      " [0.44283986]\n",
      " [0.44276398]\n",
      " [0.43929195]\n",
      " [0.43962273]\n",
      " [0.43787363]\n",
      " [0.43831837]\n",
      " [0.43758154]\n",
      " [0.43957958]\n",
      " [0.43952155]\n",
      " [0.4392235 ]\n",
      " [0.443015  ]]\n"
     ]
    }
   ],
   "source": [
    "print(y1)"
   ]
  },
  {
   "cell_type": "code",
   "execution_count": 25,
   "id": "7e8a9b65",
   "metadata": {},
   "outputs": [
    {
     "name": "stdout",
     "output_type": "stream",
     "text": [
      "[[  7.4   14.47  28.   100.55]\n",
      " [ 11.    13.98  29.95 100.4 ]\n",
      " [ 21.    16.78  31.12 100.44]\n",
      " [171.1   18.92  29.52 100.33]\n",
      " [ 95.3   19.53  27.9  100.3 ]\n",
      " [430.3   18.92  26.89 100.33]\n",
      " [362.6   19.1   26.41 100.25]\n",
      " [501.6   18.43  26.29 100.4 ]\n",
      " [241.1   18.55  26.75 100.45]\n",
      " [187.5   18.37  27.59 100.41]\n",
      " [112.9   17.03  27.3  100.45]\n",
      " [  9.4   15.87  28.28 100.41]]\n"
     ]
    }
   ],
   "source": [
    "print(X1)"
   ]
  },
  {
   "cell_type": "code",
   "execution_count": 26,
   "id": "b2c6ea82",
   "metadata": {},
   "outputs": [],
   "source": [
    "import pandas as pd\n",
    "\n",
    "# Load the new data from a CSV file\n",
    "new_data = pd.read_csv('newdata1.csv')\n",
    "\n",
    "# Extract the input features into a separate DataFrame or NumPy array\n",
    "X1 = new_data[['Rain', 'Humidity', 'Temperature', 'Pressure']].values"
   ]
  },
  {
   "cell_type": "code",
   "execution_count": 27,
   "id": "9d837fe8",
   "metadata": {},
   "outputs": [
    {
     "name": "stdout",
     "output_type": "stream",
     "text": [
      "[[  7.    14.71  27.72 100.68]\n",
      " [  6.8   14.28  30.08 100.57]\n",
      " [ 28.5   16.36  31.55 100.47]\n",
      " [ 75.9   18.55  30.81 100.35]\n",
      " [166.3   18.86  28.93 100.26]\n",
      " [912.4   18.37  26.52 100.32]\n",
      " [489.8   18.55  26.01 100.31]\n",
      " [495.6   18.37  25.93 100.37]\n",
      " [376.6   18.43  26.05 100.32]\n",
      " [265.    18.01  26.75 100.44]\n",
      " [138.6   17.09  26.59 100.46]\n",
      " [ 43.3   15.56  26.98 100.67]]\n"
     ]
    }
   ],
   "source": [
    "print(X1)"
   ]
  },
  {
   "cell_type": "code",
   "execution_count": 28,
   "id": "244c29e2",
   "metadata": {},
   "outputs": [
    {
     "name": "stdout",
     "output_type": "stream",
     "text": [
      "1/1 [==============================] - 0s 35ms/step\n"
     ]
    }
   ],
   "source": [
    "y2 = model.predict(X1)"
   ]
  },
  {
   "cell_type": "code",
   "execution_count": 29,
   "id": "7eef25ea",
   "metadata": {},
   "outputs": [
    {
     "name": "stdout",
     "output_type": "stream",
     "text": [
      "[[0.44297394]\n",
      " [0.44297874]\n",
      " [0.44254854]\n",
      " [0.43989822]\n",
      " [0.4393175 ]\n",
      " [0.4369484 ]\n",
      " [0.4376521 ]\n",
      " [0.43765008]\n",
      " [0.4383279 ]\n",
      " [0.43935314]\n",
      " [0.43897954]\n",
      " [0.44221348]]\n"
     ]
    }
   ],
   "source": [
    "print(y2)"
   ]
  },
  {
   "cell_type": "code",
   "execution_count": 31,
   "id": "b72630b1",
   "metadata": {},
   "outputs": [
    {
     "name": "stdout",
     "output_type": "stream",
     "text": [
      "Prediction: Flooding will not occur\n"
     ]
    }
   ],
   "source": [
    "out = y2[0][0]\n",
    "if out >= 0.5:\n",
    "    show = 'Flooding will occur'\n",
    "else:\n",
    "    show = 'Flooding will not occur'\n",
    "\n",
    "print('Prediction:', show)\n"
   ]
  },
  {
   "cell_type": "code",
   "execution_count": 32,
   "id": "e27a4533",
   "metadata": {},
   "outputs": [],
   "source": [
    "import pandas as pd\n",
    "new_data = pd.read_csv('newdata2.csv')\n",
    "X1 = new_data[['Rain', 'Humidity', 'Temperature', 'Pressure']].values"
   ]
  },
  {
   "cell_type": "code",
   "execution_count": 33,
   "id": "ef46d7f2",
   "metadata": {},
   "outputs": [
    {
     "name": "stdout",
     "output_type": "stream",
     "text": [
      "[[  29.1    14.77   28.09  100.5 ]\n",
      " [  52.1    14.28   30.37  100.53]\n",
      " [  48.6    17.09   31.32  100.39]\n",
      " [ 116.4    19.35   30.18  100.29]\n",
      " [ 183.8    19.78   28.44  100.21]\n",
      " [ 625.4    19.59   27.02  100.3 ]\n",
      " [1048.5    19.23   26.19  100.35]\n",
      " [1398.9    18.74   25.72  100.42]\n",
      " [ 423.6    18.19   26.87  100.42]\n",
      " [ 356.1    18.37   27.52  100.47]\n",
      " [ 125.4    17.82   27.79  100.53]\n",
      " [  65.1    16.78   27.85  100.58]]\n"
     ]
    }
   ],
   "source": [
    "print(X1)"
   ]
  },
  {
   "cell_type": "code",
   "execution_count": 34,
   "id": "1ad4bca7",
   "metadata": {},
   "outputs": [
    {
     "name": "stdout",
     "output_type": "stream",
     "text": [
      "1/1 [==============================] - 0s 35ms/step\n"
     ]
    }
   ],
   "source": [
    "y3 = model.predict(X1)"
   ]
  },
  {
   "cell_type": "code",
   "execution_count": 35,
   "id": "bf749156",
   "metadata": {},
   "outputs": [
    {
     "name": "stdout",
     "output_type": "stream",
     "text": [
      "Prediction: Flooding will not occur\n"
     ]
    }
   ],
   "source": [
    "out = y3[0][0]\n",
    "if out >= 0.5:\n",
    "    show = 'Flooding will occur'\n",
    "else:\n",
    "    show = 'Flooding will not occur'\n",
    "\n",
    "print('Prediction:', show)"
   ]
  },
  {
   "cell_type": "code",
   "execution_count": 36,
   "id": "40db2be3",
   "metadata": {},
   "outputs": [
    {
     "name": "stdout",
     "output_type": "stream",
     "text": [
      "[[0.44239047]\n",
      " [0.44137648]\n",
      " [0.44178596]\n",
      " [0.43925947]\n",
      " [0.43947312]\n",
      " [0.43718553]\n",
      " [0.4366421 ]\n",
      " [0.43517625]\n",
      " [0.43798524]\n",
      " [0.43832406]\n",
      " [0.4390607 ]\n",
      " [0.44075117]]\n"
     ]
    }
   ],
   "source": [
    "print(y3)"
   ]
  },
  {
   "cell_type": "code",
   "execution_count": null,
   "id": "9c380720",
   "metadata": {},
   "outputs": [],
   "source": []
  }
 ],
 "metadata": {
  "kernelspec": {
   "display_name": "Python 3 (ipykernel)",
   "language": "python",
   "name": "python3"
  },
  "language_info": {
   "codemirror_mode": {
    "name": "ipython",
    "version": 3
   },
   "file_extension": ".py",
   "mimetype": "text/x-python",
   "name": "python",
   "nbconvert_exporter": "python",
   "pygments_lexer": "ipython3",
   "version": "3.10.9"
  }
 },
 "nbformat": 4,
 "nbformat_minor": 5
}
